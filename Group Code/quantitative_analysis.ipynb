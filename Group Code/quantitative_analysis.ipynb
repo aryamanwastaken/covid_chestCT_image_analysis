{
 "cells": [
  {
   "cell_type": "code",
   "execution_count": 6,
   "metadata": {
    "pycharm": {
     "is_executing": true,
     "name": "#%%\n"
    }
   },
   "outputs": [],
   "source": [
    "import SimpleITK as sitk\n",
    "import myshow\n",
    "import sys\n",
    "import os\n",
    "from myshow import myshow, myshow3d"
   ]
  },
  {
   "cell_type": "code",
   "execution_count": 7,
   "metadata": {
    "collapsed": false,
    "jupyter": {
     "outputs_hidden": false
    },
    "pycharm": {
     "name": "#%%\n"
    }
   },
   "outputs": [],
   "source": [
    "directory = \"CovidCTScan/manifest-1608266677008/MIDRC-RICORD-1A/MIDRC-RICORD-1A-440808-000001/02-09-2005-NA-THORAX PE-.3254/5.000000-ARTERIALVENOUS AXIAL THIN-.3255\"\n",
    "img = '/Users/syn/PycharmProjects/pythonProject7/CovidCTScan/manifest-1608266677008/MIDRC-RICORD-1A/MIDRC-RICORD-1A-440808-000001/02-09-2005-NA-THORAX PE-.3254/5.000000-ARTERIALVENOUS AXIAL THIN-.3255/1-069.dcm'\n",
    "testimg = '/Users/syn/PycharmProjects/pythonProject7/1-008.nrrd'"
   ]
  },
  {
   "cell_type": "code",
   "execution_count": 8,
   "metadata": {
    "collapsed": false,
    "jupyter": {
     "outputs_hidden": false
    },
    "pycharm": {
     "name": "#%%\n"
    }
   },
   "outputs": [
    {
     "name": "stdout",
     "output_type": "stream",
     "text": [
      "Image size: 512 512 1\n"
     ]
    }
   ],
   "source": [
    "reader = sitk.ImageFileReader()\n",
    "reader.SetFileName(img)\n",
    "image = reader.Execute()\n",
    "\n",
    "size = image.GetSize()\n",
    "print(\"Image size:\", size[0], size[1], size[2])"
   ]
  },
  {
   "cell_type": "code",
   "execution_count": 9,
   "metadata": {
    "collapsed": false,
    "jupyter": {
     "outputs_hidden": false
    },
    "pycharm": {
     "name": "#%%\n"
    }
   },
   "outputs": [
    {
     "data": {
      "application/vnd.jupyter.widget-view+json": {
       "model_id": "e8849ff204f548e1a6f5b2b8e8cd2d3a",
       "version_major": 2,
       "version_minor": 0
      },
      "text/plain": [
       "interactive(children=(IntSlider(value=0, description='z', max=0), Output()), _dom_classes=('widget-interact',)…"
      ]
     },
     "metadata": {},
     "output_type": "display_data"
    }
   ],
   "source": [
    "seg = image>200\n",
    "myshow(sitk.LabelOverlay(image, seg), \"Basic Thresholding\")"
   ]
  },
  {
   "cell_type": "code",
   "execution_count": 10,
   "metadata": {
    "collapsed": false,
    "jupyter": {
     "outputs_hidden": false
    },
    "pycharm": {
     "name": "#%%\n"
    }
   },
   "outputs": [
    {
     "data": {
      "application/vnd.jupyter.widget-view+json": {
       "model_id": "84345e6d4ffd40ab83023eea9a4d7714",
       "version_major": 2,
       "version_minor": 0
      },
      "text/plain": [
       "interactive(children=(IntSlider(value=0, description='z', max=0), Output()), _dom_classes=('widget-interact',)…"
      ]
     },
     "metadata": {},
     "output_type": "display_data"
    },
    {
     "name": "stdout",
     "output_type": "stream",
     "text": [
      "-2976.0\n"
     ]
    },
    {
     "data": {
      "application/vnd.jupyter.widget-view+json": {
       "model_id": "10c93d094fc94cf998b7ef0d4bbf6d5a",
       "version_major": 2,
       "version_minor": 0
      },
      "text/plain": [
       "interactive(children=(IntSlider(value=0, description='z', max=0), Output()), _dom_classes=('widget-interact',)…"
      ]
     },
     "metadata": {},
     "output_type": "display_data"
    }
   ],
   "source": [
    "otsu_filter = sitk.OtsuThresholdImageFilter()\n",
    "otsu_filter.SetInsideValue(0)\n",
    "otsu_filter.SetOutsideValue(1)\n",
    "seg = otsu_filter.Execute(image)\n",
    "myshow(sitk.LabelOverlay(image, seg), \"Otsu Thresholding\")\n",
    "\n",
    "print(otsu_filter.GetThreshold() )\n",
    "myshow(image)"
   ]
  },
  {
   "cell_type": "code",
   "execution_count": 11,
   "metadata": {
    "collapsed": false,
    "jupyter": {
     "outputs_hidden": false
    },
    "pycharm": {
     "name": "#%%\n"
    }
   },
   "outputs": [
    {
     "name": "stdout",
     "output_type": "stream",
     "text": [
      "Reading Dicom directory: CovidCTScan/manifest-1608266677008/MIDRC-RICORD-1A/MIDRC-RICORD-1A-440808-000001/02-09-2005-NA-THORAX PE-.3254/5.000000-ARTERIALVENOUS AXIAL THIN-.3255\n",
      "Image size: 512 512 127\n"
     ]
    }
   ],
   "source": [
    "print(\"Reading Dicom directory:\", directory)\n",
    "reader = sitk.ImageSeriesReader()\n",
    "\n",
    "dicom_names = reader.GetGDCMSeriesFileNames(directory)\n",
    "reader.SetFileNames(dicom_names)\n",
    "\n",
    "image = reader.Execute()\n",
    "\n",
    "size = image.GetSize()\n",
    "print(\"Image size:\", size[0], size[1], size[2])\n",
    "\n",
    "#if \"SITK_NOSHOW\" not in os.environ:\n",
    "    #sitk.Show(image, \"Dicom Series\")"
   ]
  },
  {
   "cell_type": "code",
   "execution_count": 17,
   "metadata": {
    "collapsed": false,
    "jupyter": {
     "outputs_hidden": false
    },
    "pycharm": {
     "name": "#%%\n"
    }
   },
   "outputs": [],
   "source": [
    "#Fast marching segmentation, can barely see the lungs"
   ]
  },
  {
   "cell_type": "code",
   "execution_count": 18,
   "metadata": {
    "collapsed": false,
    "jupyter": {
     "outputs_hidden": false
    },
    "pycharm": {
     "name": "#%%\n"
    }
   },
   "outputs": [
    {
     "data": {
      "application/vnd.jupyter.widget-view+json": {
       "model_id": "57682241548b4fce86d7ff131ddd9299",
       "version_major": 2,
       "version_minor": 0
      },
      "text/plain": [
       "interactive(children=(IntSlider(value=63, description='z', max=126), Output()), _dom_classes=('widget-interact…"
      ]
     },
     "metadata": {},
     "output_type": "display_data"
    }
   ],
   "source": [
    "seed = (132,142,96)\n",
    "feature_img = sitk.GradientMagnitudeRecursiveGaussian(image, sigma=.5)\n",
    "speed_img = sitk.BoundedReciprocal(feature_img) # This is parameter free unlike the Sigmoid\n",
    "myshow(speed_img)"
   ]
  },
  {
   "cell_type": "code",
   "execution_count": 19,
   "metadata": {},
   "outputs": [
    {
     "data": {
      "application/vnd.jupyter.widget-view+json": {
       "model_id": "0437a878fd4a4fceb4c355c1c60decf1",
       "version_major": 2,
       "version_minor": 0
      },
      "text/plain": [
       "interactive(children=(IntSlider(value=63, description='z', max=126), Output()), _dom_classes=('widget-interact…"
      ]
     },
     "metadata": {},
     "output_type": "display_data"
    }
   ],
   "source": [
    "seed = (256,256,96)\n",
    "feature_img = sitk.GradientMagnitudeRecursiveGaussian(image, sigma=.5)\n",
    "speed_img = sitk.BoundedReciprocal(feature_img) # This is parameter free unlike the Sigmoid\n",
    "myshow(speed_img)"
   ]
  },
  {
   "cell_type": "code",
   "execution_count": 23,
   "metadata": {},
   "outputs": [],
   "source": [
    "#Watershed"
   ]
  },
  {
   "cell_type": "code",
   "execution_count": 25,
   "metadata": {},
   "outputs": [
    {
     "name": "stdout",
     "output_type": "stream",
     "text": [
      "Image size: 512 512 1\n"
     ]
    }
   ],
   "source": [
    "reader = sitk.ImageFileReader()\n",
    "reader.SetFileName(img)\n",
    "img = reader.Execute()\n",
    "\n",
    "size = image.GetSize()\n",
    "print(\"Image size:\", size[0], size[1], size[2])"
   ]
  },
  {
   "cell_type": "code",
   "execution_count": 26,
   "metadata": {},
   "outputs": [
    {
     "data": {
      "application/vnd.jupyter.widget-view+json": {
       "model_id": "df21e427bfa9446da4ceae60770f4508",
       "version_major": 2,
       "version_minor": 0
      },
      "text/plain": [
       "interactive(children=(IntSlider(value=0, description='z', max=0), Output()), _dom_classes=('widget-interact',)…"
      ]
     },
     "metadata": {},
     "output_type": "display_data"
    }
   ],
   "source": [
    "myshow(img)"
   ]
  },
  {
   "cell_type": "code",
   "execution_count": 27,
   "metadata": {},
   "outputs": [],
   "source": [
    "sigma=img.GetSpacing()[0]\n",
    "level=4"
   ]
  },
  {
   "cell_type": "code",
   "execution_count": 28,
   "metadata": {},
   "outputs": [
    {
     "data": {
      "application/vnd.jupyter.widget-view+json": {
       "model_id": "557fbd4618304934ada8e7a9bb3df8d3",
       "version_major": 2,
       "version_minor": 0
      },
      "text/plain": [
       "interactive(children=(IntSlider(value=0, description='z', max=0), Output()), _dom_classes=('widget-interact',)…"
      ]
     },
     "metadata": {},
     "output_type": "display_data"
    }
   ],
   "source": [
    "feature_img = sitk.GradientMagnitude(img)\n",
    "myshow(feature_img, \"Edge Features\")"
   ]
  },
  {
   "cell_type": "code",
   "execution_count": 40,
   "metadata": {},
   "outputs": [
    {
     "data": {
      "application/vnd.jupyter.widget-view+json": {
       "model_id": "08a76d594dab4485ab24d38bb2e44955",
       "version_major": 2,
       "version_minor": 0
      },
      "text/plain": [
       "interactive(children=(IntSlider(value=0, description='z', max=0), Output()), _dom_classes=('widget-interact',)…"
      ]
     },
     "metadata": {},
     "output_type": "display_data"
    }
   ],
   "source": [
    "ws_img = sitk.MorphologicalWatershed(feature_img, level=0, markWatershedLine=True, fullyConnected=False)\n",
    "myshow(sitk.LabelToRGB(ws_img), \"Watershed Over Segmentation\")"
   ]
  },
  {
   "cell_type": "code",
   "execution_count": 30,
   "metadata": {},
   "outputs": [
    {
     "data": {
      "application/vnd.jupyter.widget-view+json": {
       "model_id": "973ceb2ddfe746ea8107a8aae73dfbf8",
       "version_major": 2,
       "version_minor": 0
      },
      "text/plain": [
       "interactive(children=(Checkbox(value=True, description='markWatershedLine'), Checkbox(value=False, description…"
      ]
     },
     "metadata": {},
     "output_type": "display_data"
    },
    {
     "data": {
      "text/plain": [
       "<function __main__.<lambda>(**kwargs)>"
      ]
     },
     "execution_count": 30,
     "metadata": {},
     "output_type": "execute_result"
    }
   ],
   "source": [
    "\n",
    "from ipywidgets import interact, interactive, FloatSlider\n",
    "\n",
    "def callback(feature_img,*args, **kwargs):\n",
    "    ws_img = sitk.MorphologicalWatershed(feature_img,*args, **kwargs)\n",
    "    \n",
    "    myshow(sitk.LabelToRGB(ws_img), \"Watershed Segmentation\")\n",
    "    \n",
    "interact(lambda **kwargs: callback(feature_img, **kwargs),\n",
    "             markWatershedLine=True,\n",
    "             fullyConnected=False,\n",
    "             level=FloatSlider(min=0, max=255, step=0.1, value=4.0) )"
   ]
  },
  {
   "cell_type": "code",
   "execution_count": 31,
   "metadata": {},
   "outputs": [
    {
     "data": {
      "application/vnd.jupyter.widget-view+json": {
       "model_id": "1e3e5340394e44538f6aa32409cadaf6",
       "version_major": 2,
       "version_minor": 0
      },
      "text/plain": [
       "interactive(children=(IntSlider(value=0, description='z', max=0), Output()), _dom_classes=('widget-interact',)…"
      ]
     },
     "metadata": {},
     "output_type": "display_data"
    }
   ],
   "source": [
    "min_img = sitk.RegionalMinima(feature_img, backgroundValue=0, foregroundValue=1.0, fullyConnected=False, flatIsMinima=True)\n",
    "marker_img = sitk.ConnectedComponent(min_img)\n",
    "myshow(sitk.LabelToRGB(marker_img), \"Too many local minima markers\")"
   ]
  },
  {
   "cell_type": "code",
   "execution_count": 41,
   "metadata": {},
   "outputs": [
    {
     "data": {
      "application/vnd.jupyter.widget-view+json": {
       "model_id": "b5c1627e4fbf45078348aa51e2581538",
       "version_major": 2,
       "version_minor": 0
      },
      "text/plain": [
       "interactive(children=(Checkbox(value=True, description='markWatershedLine'), Checkbox(value=False, description…"
      ]
     },
     "metadata": {},
     "output_type": "display_data"
    },
    {
     "data": {
      "text/plain": [
       "<function __main__.<lambda>(**kwargs)>"
      ]
     },
     "execution_count": 41,
     "metadata": {},
     "output_type": "execute_result"
    }
   ],
   "source": [
    "from ipywidgets import interact, interactive, FloatSlider\n",
    "\n",
    "def callback(feature_img,*args, **kwargs):\n",
    "    ws_img = sitk.MorphologicalWatershed(feature_img,*args, **kwargs)\n",
    "    \n",
    "    myshow(sitk.LabelToRGB(ws_img), \"Watershed Segmentation\")\n",
    "    \n",
    "interact(lambda **kwargs: callback(feature_img, **kwargs),\n",
    "             markWatershedLine=True,\n",
    "             fullyConnected=False,\n",
    "             level=FloatSlider(min=0, max=255, step=0.1, value=90.0) )"
   ]
  },
  {
   "cell_type": "code",
   "execution_count": 43,
   "metadata": {},
   "outputs": [
    {
     "data": {
      "application/vnd.jupyter.widget-view+json": {
       "model_id": "3c5a52b4336441a38a6c6a29c7b9ecf1",
       "version_major": 2,
       "version_minor": 0
      },
      "text/plain": [
       "interactive(children=(Checkbox(value=True, description='markWatershedLine'), Checkbox(value=False, description…"
      ]
     },
     "metadata": {},
     "output_type": "display_data"
    },
    {
     "data": {
      "text/plain": [
       "<function __main__.<lambda>(**kwargs)>"
      ]
     },
     "execution_count": 43,
     "metadata": {},
     "output_type": "execute_result"
    }
   ],
   "source": [
    "\n",
    "from ipywidgets import interact, interactive, FloatSlider\n",
    "\n",
    "def callback(feature_img,*args, **kwargs):\n",
    "    ws_img = sitk.MorphologicalWatershed(feature_img,*args, **kwargs)\n",
    "    \n",
    "    myshow(sitk.LabelToRGB(ws_img), \"Watershed Segmentation\")\n",
    "    \n",
    "interact(lambda **kwargs: callback(feature_img, **kwargs),\n",
    "             markWatershedLine=True,\n",
    "             fullyConnected=False,\n",
    "             level=FloatSlider(min=0, max=255, step=0.1, value=60.0) )"
   ]
  },
  {
   "cell_type": "code",
   "execution_count": null,
   "metadata": {},
   "outputs": [],
   "source": []
  }
 ],
 "metadata": {
  "kernelspec": {
   "display_name": "Python 3 (ipykernel)",
   "language": "python",
   "name": "python3"
  },
  "language_info": {
   "codemirror_mode": {
    "name": "ipython",
    "version": 3
   },
   "file_extension": ".py",
   "mimetype": "text/x-python",
   "name": "python",
   "nbconvert_exporter": "python",
   "pygments_lexer": "ipython3",
   "version": "3.9.10"
  }
 },
 "nbformat": 4,
 "nbformat_minor": 4
}
